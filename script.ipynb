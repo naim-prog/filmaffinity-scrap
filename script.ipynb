{
 "cells": [
  {
   "cell_type": "markdown",
   "metadata": {},
   "source": [
    "# Filmaffinity scrapper"
   ]
  },
  {
   "cell_type": "markdown",
   "metadata": {},
   "source": [
    "## Description"
   ]
  },
  {
   "cell_type": "markdown",
   "metadata": {},
   "source": [
    "My intention is to create a scrapper from all the way up of Filmaffinity. To gather the data I'll need to make my own scrapper. Mainly, the information I want to get is the following:\n",
    "\n",
    "From films and series:\n",
    "\n",
    "* Title\n",
    "* Year\n",
    "* Running time\n",
    "* Country\n",
    "* Director(s)\n",
    "* Screenwriter(s)\n",
    "* Cast\n",
    "* Cinematography\n",
    "* Producer(s)\n",
    "* Genre(s)\n",
    "* Synopsis\n",
    "* Rating\n",
    "* Pro rating\n",
    "\n",
    "From actors:\n",
    "\n",
    "* Name\n",
    "* Date of birth\n",
    "* Filmography\n",
    "* Awards (wins and nominations)\n",
    "\n",
    "From reviews:\n",
    "\n",
    "* Film\n",
    "* Author number of reviews\n",
    "* Author number of ratings\n",
    "* Users agree with review\n",
    "* Total rating average\n",
    "* Date of review\n"
   ]
  },
  {
   "cell_type": "markdown",
   "metadata": {},
   "source": [
    "## Constants"
   ]
  },
  {
   "cell_type": "code",
   "execution_count": 3,
   "metadata": {},
   "outputs": [],
   "source": [
    "BASE_URL = \"https://www.filmaffinity.com/es\""
   ]
  },
  {
   "cell_type": "markdown",
   "metadata": {},
   "source": [
    "## Imports"
   ]
  },
  {
   "cell_type": "code",
   "execution_count": 2,
   "metadata": {},
   "outputs": [],
   "source": [
    "import requests\n",
    "import selenium\n",
    "from bs4 import BeautifulSoup"
   ]
  },
  {
   "cell_type": "markdown",
   "metadata": {},
   "source": [
    "## Tests"
   ]
  },
  {
   "cell_type": "markdown",
   "metadata": {},
   "source": [
    "### Manual"
   ]
  },
  {
   "cell_type": "markdown",
   "metadata": {},
   "source": [
    "First of all, what I need to do is to browse the Filmaffinity webpage in order to find from where I need to start scrapping the data."
   ]
  },
  {
   "cell_type": "markdown",
   "metadata": {},
   "source": [
    "I think the starting point should be the section \"Top FA\" where you can search applying different filters."
   ]
  },
  {
   "cell_type": "markdown",
   "metadata": {},
   "source": [
    "I realise that you can only select 10 different platforms to look up for films and series. However, in my opinion, this are where the vast majority of content is posted in. I've never hear 90% of names on this list."
   ]
  },
  {
   "cell_type": "markdown",
   "metadata": {},
   "source": [
    "It looks like the URL of the request needs to be something like the following:\n",
    "\n",
    "https://www.filmaffinity.com/es/topgen.php?genres=&chv=1&orderby=rc&movietype=full%7C&country=&fromyear=1874&toyear=2025&ratingcount=0&runtimemin=0&runtimemax=7&platforms%5B%5D=8&platforms%5B%5D=119&platforms%5B%5D=1899&platforms%5B%5D=384&platforms%5B%5D=1773&platforms%5B%5D=337&platforms%5B%5D=149&platforms%5B%5D=350&platforms%5B%5D=63&platforms%5B%5D=64"
   ]
  },
  {
   "attachments": {
    "image.png": {
     "image/png": "[encoded data removed]"
    }
   },
   "cell_type": "markdown",
   "metadata": {},
   "source": [
    "At the bottom of the page we can see a little arrow to load more films:\n",
    "\n",
    "![image.png](attachment:image.png)"
   ]
  },
  {
   "cell_type": "markdown",
   "metadata": {},
   "source": [
    "### Programmed"
   ]
  },
  {
   "cell_type": "code",
   "execution_count": 4,
   "metadata": {},
   "outputs": [],
   "source": [
    "# First I make a request to the Top FA section\n",
    "\n",
    "top_fa_request = requests.get(BASE_URL + \"/topgen.php\")"
   ]
  },
  {
   "cell_type": "code",
   "execution_count": null,
   "metadata": {},
   "outputs": [
    {
     "data": {
      "text/plain": [
       "{}"
      ]
     },
     "execution_count": 12,
     "metadata": {},
     "output_type": "execute_result"
    }
   ],
   "source": [
    "top_fa_request."
   ]
  }
 ],
 "metadata": {
  "kernelspec": {
   "display_name": "Python 3",
   "language": "python",
   "name": "python3"
  },
  "language_info": {
   "codemirror_mode": {
    "name": "ipython",
    "version": 3
   },
   "file_extension": ".py",
   "mimetype": "text/x-python",
   "name": "python",
   "nbconvert_exporter": "python",
   "pygments_lexer": "ipython3",
   "version": "3.13.0"
  }
 },
 "nbformat": 4,
 "nbformat_minor": 2
}
