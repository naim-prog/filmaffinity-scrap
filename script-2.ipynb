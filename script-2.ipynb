{
 "cells": [
  {
   "cell_type": "code",
   "execution_count": null,
   "id": "9cf02fbc",
   "metadata": {},
   "outputs": [],
   "source": [
    "import cloudscraper\n",
    "import sys\n",
    "from bs4 import BeautifulSoup\n",
    "import os\n",
    "from tqdm import tqdm"
   ]
  },
  {
   "cell_type": "code",
   "execution_count": 5,
   "id": "6443eacd",
   "metadata": {},
   "outputs": [],
   "source": [
    "def save_html_to_file(content, section, page_num, output_dir=\"film_reviews\"):\n",
    "    \"\"\"\n",
    "    Save HTML content to a file, handling different content types and encodings\n",
    "    \n",
    "    Args:\n",
    "        content: HTML content (string) or response object\n",
    "        section: Section identifier\n",
    "        page_num: Page number\n",
    "        output_dir: Directory to save files\n",
    "    \n",
    "    Returns:\n",
    "        File path where HTML was saved\n",
    "    \"\"\"\n",
    "    # Create output directory if it doesn't exist\n",
    "    os.makedirs(output_dir, exist_ok=True)\n",
    "    \n",
    "    # Create filename\n",
    "    filename = f\"{section}_{page_num}.html\"\n",
    "    file_path = os.path.join(output_dir, filename)\n",
    "    \n",
    "    try:\n",
    "        # If content is a response object, get the text with proper encoding\n",
    "        if hasattr(content, 'text'):\n",
    "            html_content = content.text\n",
    "        elif hasattr(content, 'content'):\n",
    "            # Try to decode content with the response's encoding or utf-8\n",
    "            encoding = content.encoding if hasattr(content, 'encoding') else 'utf-8'\n",
    "            html_content = content.content.decode(encoding)\n",
    "        else:\n",
    "            # If it's already a string\n",
    "            html_content = str(content)\n",
    "        \n",
    "        # Save HTML content\n",
    "        with open(file_path, 'w', encoding='utf-8') as f:\n",
    "            f.write(html_content)\n",
    "        \n",
    "        print(f\"💾 Saved HTML to: {file_path}\")\n",
    "        return file_path\n",
    "        \n",
    "    except Exception as e:\n",
    "        print(f\"❌ Error saving file: {str(e)}\")\n",
    "        return None"
   ]
  },
  {
   "cell_type": "code",
   "execution_count": 6,
   "id": "0e32ffe8",
   "metadata": {},
   "outputs": [],
   "source": [
    "def scrape_with_cloudscraper(url):\n",
    "    scraper = cloudscraper.create_scraper(\n",
    "        browser={\n",
    "            'browser': 'chrome',\n",
    "            'platform': 'windows',\n",
    "            'mobile': False\n",
    "        },\n",
    "        delay=10  # 10 seconds delay between requests\n",
    "    )\n",
    "\n",
    "    headers = {\n",
    "        'User-Agent': 'Mozilla/5.0 (Windows NT 10.0; Win64; x64) AppleWebKit/537.36 (KHTML, like Gecko) Chrome/120.0.0.0 Safari/537.36',\n",
    "        'Accept-Language': 'es-ES,es;q=0.9,en;q=0.3',\n",
    "        'Connection': 'keep-alive',\n",
    "        'Cache-Control': 'max-age=0',\n",
    "    }\n",
    "    \n",
    "    # Add headers to the session\n",
    "    scraper.headers.update(headers)\n",
    "    \n",
    "    # Make the request with timeout\n",
    "    response = scraper.get(url, timeout=15)  # 10 seconds timeout for the request\n",
    "\n",
    "    return response"
   ]
  },
  {
   "cell_type": "code",
   "execution_count": null,
   "id": "fd1bd2d9",
   "metadata": {},
   "outputs": [],
   "source": [
    "def scrape_filmaffinity_sections_and_pages(film_links, base_url_template, save_html=True):\n",
    "    \"\"\"\n",
    "    Scrape multiple sections and pages from FilmAffinity\n",
    "    \n",
    "    Args:\n",
    "        sections: List of section identifiers\n",
    "        pages_per_section: Number of pages to scrape per section\n",
    "        base_url_template: URL template with placeholders for section and page\n",
    "        save_html: Whether to save HTML files to disk\n",
    "    \n",
    "    Returns:\n",
    "        Dictionary with scraped data organized by section and page\n",
    "    \"\"\"\n",
    "    \n",
    "    \n",
    "    list_end_reviews = open('film_reviews/end_reviews', 'r').read().split('\\n')\n",
    "\n",
    "    try:\n",
    "        # Outer loop: iterate through sections\n",
    "        for link in (pbar:=tqdm(list(film_links))):\n",
    "\n",
    "            film_id = str(link).split('/')[-1].split('.')[0]\n",
    "            review_page_id = 1\n",
    "\n",
    "            pbar.set_postfix_str(film_id)\n",
    "\n",
    "            if film_id in list_end_reviews:\n",
    "                continue\n",
    "\n",
    "            # Inner loop: iterate through pages for each section\n",
    "            while True:\n",
    "                \n",
    "                if not os.path.exists(os.path.join(os.getcwd(), \"film_reviews\", film_id + \"_\" + str(review_page_id) + \".html\")):\n",
    "                    \n",
    "                    # Build URL for current section and page\n",
    "                    url = base_url_template.format(section=film_id.removeprefix(\"film\"), page=review_page_id)\n",
    "\n",
    "                    # Scrape the page\n",
    "                    # soup = scrape_page(driver, url)\n",
    "                    response = scrape_with_cloudscraper(url)\n",
    "\n",
    "                    soup = BeautifulSoup(response.text)\n",
    "\n",
    "                    # Error 404, no more reviews for this film\n",
    "                    if response.status_code == 404:\n",
    "                        with open(\"film_reviews/end_reviews\", 'a') as file_end:\n",
    "                            file_end.write(f'{film_id}\\n')\n",
    "\n",
    "                        break\n",
    "\n",
    "\n",
    "                    # Optionally save HTML to file\n",
    "                    if save_html:\n",
    "                        save_html_to_file(response.text, film_id, review_page_id)\n",
    "\n",
    "\n",
    "                else:\n",
    "                    with open(f'film_reviews/{film_id}_{review_page_id}.html', 'r', encoding=\"utf-8\") as file:\n",
    "                        response = file.read()\n",
    "                    soup = BeautifulSoup(response)\n",
    "\n",
    "\n",
    "                h1_s = soup.find_all(\"h1\")\n",
    "\n",
    "                too_many_requests = False\n",
    "                for h1 in h1_s:\n",
    "                    # If too many request get a proxy and continue requesting films\n",
    "                    if h1.get_text() == \"Too many requests\":\n",
    "                        too_many_requests = True\n",
    "                        print(f\"INFO: Too many requests\\n\")\n",
    "                \n",
    "\n",
    "                # Delete the 4KB response\n",
    "                if too_many_requests:\n",
    "                    os.remove(f'film_reviews/{film_id}_{review_page_id}.html')\n",
    "                    sys.exit()\n",
    "                    continue\n",
    "\n",
    "                review_page_id += 1                    \n",
    "\n",
    "\n",
    "    except Exception as e:\n",
    "        print(f\"❌ Error during scraping: {str(e)}\")\n",
    "        \n",
    "    finally:\n",
    "        # Always close the driver\n",
    "        print(\"🔚 Closing browser...\")\n"
   ]
  },
  {
   "cell_type": "code",
   "execution_count": 8,
   "id": "4f70b879",
   "metadata": {},
   "outputs": [
    {
     "name": "stdout",
     "output_type": "stream",
     "text": [
      "Number of films: 24367\n"
     ]
    }
   ],
   "source": [
    "# Example usage - customize these parameters for your needs\n",
    "\n",
    "# Define the sections you want to scrape (user IDs or section identifiers)\n",
    "film_links = [\"https://www.filmaffinity.com/es/\" + file_name for file_name in os.listdir('htmls_film_info')]\n",
    "print(f\"Number of films: {len(film_links)}\")\n",
    "\n",
    "# URL template - modify this based on the actual FilmAffinity URL structure\n",
    "# Use {section} and {page} as placeholders\n",
    "# base_url_template = \"https://www.filmaffinity.com/es/userratings.php?user_id={section}&p={page}&orderby=rating-date&chv=grid\"\n",
    "base_url_template = \"https://www.filmaffinity.com/es/reviews/{page}/{section}.html\"\n",
    "\n",
    "# Alternative URL templates you might need:\n",
    "# base_url_template = \"https://www.filmaffinity.com/es/films.php?section={section}&p={page}\"\n",
    "# base_url_template = \"https://www.filmaffinity.com/es/search.php?category={section}&p={page}\"\n"
   ]
  },
  {
   "cell_type": "code",
   "execution_count": 11,
   "id": "21424276",
   "metadata": {},
   "outputs": [
    {
     "name": "stdout",
     "output_type": "stream",
     "text": [
      "🚀 Starting the scraping process...\n",
      "==================================================\n"
     ]
    },
    {
     "name": "stderr",
     "output_type": "stream",
     "text": [
      " 55%|█████▍    | 13351/24367 [00:06<00:06, 1735.62it/s, film598949]"
     ]
    },
    {
     "name": "stdout",
     "output_type": "stream",
     "text": [
      "💾 Saved HTML to: film_reviews\\film598949_22.html\n",
      "💾 Saved HTML to: film_reviews\\film598949_23.html\n",
      "💾 Saved HTML to: film_reviews\\film598949_24.html\n"
     ]
    },
    {
     "name": "stderr",
     "output_type": "stream",
     "text": [
      " 55%|█████▍    | 13351/24367 [00:11<00:06, 1735.62it/s, film598973]"
     ]
    },
    {
     "name": "stdout",
     "output_type": "stream",
     "text": [
      "💾 Saved HTML to: film_reviews\\film598973_1.html\n"
     ]
    },
    {
     "name": "stderr",
     "output_type": "stream",
     "text": [
      " 55%|█████▍    | 13351/24367 [00:12<00:06, 1735.62it/s, film598983]"
     ]
    },
    {
     "name": "stdout",
     "output_type": "stream",
     "text": [
      "💾 Saved HTML to: film_reviews\\film598983_1.html\n"
     ]
    },
    {
     "name": "stderr",
     "output_type": "stream",
     "text": [
      " 55%|█████▍    | 13351/24367 [00:13<00:06, 1735.62it/s, film599071]"
     ]
    },
    {
     "name": "stdout",
     "output_type": "stream",
     "text": [
      "💾 Saved HTML to: film_reviews\\film599071_1.html\n"
     ]
    },
    {
     "name": "stderr",
     "output_type": "stream",
     "text": [
      " 55%|█████▍    | 13351/24367 [00:14<00:06, 1735.62it/s, film599098]"
     ]
    },
    {
     "name": "stdout",
     "output_type": "stream",
     "text": [
      "💾 Saved HTML to: film_reviews\\film599098_1.html\n",
      "💾 Saved HTML to: film_reviews\\film599098_2.html\n",
      "💾 Saved HTML to: film_reviews\\film599098_3.html\n",
      "💾 Saved HTML to: film_reviews\\film599098_4.html\n",
      "💾 Saved HTML to: film_reviews\\film599098_5.html\n"
     ]
    },
    {
     "name": "stderr",
     "output_type": "stream",
     "text": [
      " 55%|█████▍    | 13351/24367 [00:18<00:06, 1735.62it/s, film599098]"
     ]
    },
    {
     "name": "stdout",
     "output_type": "stream",
     "text": [
      "💾 Saved HTML to: film_reviews\\film599098_6.html\n",
      "💾 Saved HTML to: film_reviews\\film599098_7.html\n",
      "💾 Saved HTML to: film_reviews\\film599098_8.html\n",
      "💾 Saved HTML to: film_reviews\\film599098_9.html\n",
      "💾 Saved HTML to: film_reviews\\film599098_10.html\n",
      "💾 Saved HTML to: film_reviews\\film599098_11.html\n",
      "💾 Saved HTML to: film_reviews\\film599098_12.html\n",
      "💾 Saved HTML to: film_reviews\\film599098_13.html\n",
      "💾 Saved HTML to: film_reviews\\film599098_14.html\n",
      "💾 Saved HTML to: film_reviews\\film599098_15.html\n",
      "💾 Saved HTML to: film_reviews\\film599098_16.html\n"
     ]
    },
    {
     "name": "stderr",
     "output_type": "stream",
     "text": [
      " 55%|█████▌    | 13412/24367 [00:25<07:12, 25.33it/s, film599100]  "
     ]
    },
    {
     "name": "stdout",
     "output_type": "stream",
     "text": [
      "💾 Saved HTML to: film_reviews\\film599100_1.html\n"
     ]
    },
    {
     "name": "stderr",
     "output_type": "stream",
     "text": [
      " 55%|█████▌    | 13413/24367 [00:26<07:43, 23.66it/s, film599168]"
     ]
    },
    {
     "name": "stdout",
     "output_type": "stream",
     "text": [
      "💾 Saved HTML to: film_reviews\\film599168_1.html\n"
     ]
    },
    {
     "name": "stderr",
     "output_type": "stream",
     "text": [
      " 55%|█████▌    | 13413/24367 [00:27<07:43, 23.66it/s, film599174]"
     ]
    },
    {
     "name": "stdout",
     "output_type": "stream",
     "text": [
      "💾 Saved HTML to: film_reviews\\film599174_1.html\n",
      "💾 Saved HTML to: film_reviews\\film599174_2.html\n"
     ]
    },
    {
     "name": "stderr",
     "output_type": "stream",
     "text": [
      " 55%|█████▌    | 13413/24367 [00:28<07:43, 23.66it/s, film599209]"
     ]
    },
    {
     "name": "stdout",
     "output_type": "stream",
     "text": [
      "💾 Saved HTML to: film_reviews\\film599209_1.html\n",
      "💾 Saved HTML to: film_reviews\\film599209_2.html\n",
      "💾 Saved HTML to: film_reviews\\film599209_3.html\n",
      "💾 Saved HTML to: film_reviews\\film599209_4.html\n",
      "💾 Saved HTML to: film_reviews\\film599209_5.html\n"
     ]
    },
    {
     "name": "stderr",
     "output_type": "stream",
     "text": [
      " 55%|█████▌    | 13413/24367 [00:31<07:43, 23.66it/s, film599242]"
     ]
    },
    {
     "name": "stdout",
     "output_type": "stream",
     "text": [
      "💾 Saved HTML to: film_reviews\\film599242_1.html\n"
     ]
    },
    {
     "name": "stderr",
     "output_type": "stream",
     "text": [
      " 55%|█████▌    | 13413/24367 [00:32<07:43, 23.66it/s, film599287]"
     ]
    },
    {
     "name": "stdout",
     "output_type": "stream",
     "text": [
      "💾 Saved HTML to: film_reviews\\film599287_1.html\n",
      "💾 Saved HTML to: film_reviews\\film599287_2.html\n"
     ]
    },
    {
     "name": "stderr",
     "output_type": "stream",
     "text": [
      " 55%|█████▌    | 13413/24367 [00:34<07:43, 23.66it/s, film599359]"
     ]
    },
    {
     "name": "stdout",
     "output_type": "stream",
     "text": [
      "💾 Saved HTML to: film_reviews\\film599359_1.html\n"
     ]
    },
    {
     "name": "stderr",
     "output_type": "stream",
     "text": [
      " 55%|█████▌    | 13413/24367 [00:35<07:43, 23.66it/s, film599360]"
     ]
    },
    {
     "name": "stdout",
     "output_type": "stream",
     "text": [
      "💾 Saved HTML to: film_reviews\\film599360_1.html\n",
      "💾 Saved HTML to: film_reviews\\film599360_2.html\n",
      "💾 Saved HTML to: film_reviews\\film599360_3.html\n",
      "💾 Saved HTML to: film_reviews\\film599360_4.html\n"
     ]
    },
    {
     "name": "stderr",
     "output_type": "stream",
     "text": [
      " 55%|█████▌    | 13413/24367 [00:38<07:43, 23.66it/s, film599360]"
     ]
    },
    {
     "name": "stdout",
     "output_type": "stream",
     "text": [
      "💾 Saved HTML to: film_reviews\\film599360_5.html\n",
      "💾 Saved HTML to: film_reviews\\film599360_6.html\n",
      "💾 Saved HTML to: film_reviews\\film599360_7.html\n",
      "💾 Saved HTML to: film_reviews\\film599360_8.html\n",
      "💾 Saved HTML to: film_reviews\\film599360_9.html\n",
      "💾 Saved HTML to: film_reviews\\film599360_10.html\n",
      "💾 Saved HTML to: film_reviews\\film599360_11.html\n",
      "💾 Saved HTML to: film_reviews\\film599360_12.html\n",
      "💾 Saved HTML to: film_reviews\\film599360_13.html\n",
      "💾 Saved HTML to: film_reviews\\film599360_14.html\n",
      "💾 Saved HTML to: film_reviews\\film599360_15.html\n",
      "💾 Saved HTML to: film_reviews\\film599360_16.html\n",
      "💾 Saved HTML to: film_reviews\\film599360_17.html\n",
      "💾 Saved HTML to: film_reviews\\film599360_18.html\n",
      "💾 Saved HTML to: film_reviews\\film599360_19.html\n",
      "💾 Saved HTML to: film_reviews\\film599360_20.html\n",
      "💾 Saved HTML to: film_reviews\\film599360_21.html\n",
      "💾 Saved HTML to: film_reviews\\film599360_22.html\n",
      "💾 Saved HTML to: film_reviews\\film599360_23.html\n",
      "💾 Saved HTML to: film_reviews\\film599360_24.html\n",
      "💾 Saved HTML to: film_reviews\\film599360_25.html\n",
      "💾 Saved HTML to: film_reviews\\film599360_26.html\n",
      "💾 Saved HTML to: film_reviews\\film599360_27.html\n",
      "💾 Saved HTML to: film_reviews\\film599360_28.html\n",
      "💾 Saved HTML to: film_reviews\\film599360_29.html\n",
      "💾 Saved HTML to: film_reviews\\film599360_30.html\n",
      "💾 Saved HTML to: film_reviews\\film599360_31.html\n",
      "💾 Saved HTML to: film_reviews\\film599360_32.html\n"
     ]
    },
    {
     "name": "stderr",
     "output_type": "stream",
     "text": [
      " 55%|█████▌    | 13420/24367 [00:52<26:36,  6.86it/s, film599408]"
     ]
    },
    {
     "name": "stdout",
     "output_type": "stream",
     "text": [
      "💾 Saved HTML to: film_reviews\\film599408_1.html\n",
      "💾 Saved HTML to: film_reviews\\film599408_2.html\n",
      "💾 Saved HTML to: film_reviews\\film599408_3.html\n",
      "💾 Saved HTML to: film_reviews\\film599408_4.html\n",
      "💾 Saved HTML to: film_reviews\\film599408_5.html\n",
      "💾 Saved HTML to: film_reviews\\film599408_6.html\n",
      "💾 Saved HTML to: film_reviews\\film599408_7.html\n",
      "💾 Saved HTML to: film_reviews\\film599408_8.html\n",
      "💾 Saved HTML to: film_reviews\\film599408_9.html\n",
      "💾 Saved HTML to: film_reviews\\film599408_10.html\n",
      "💾 Saved HTML to: film_reviews\\film599408_11.html\n"
     ]
    },
    {
     "name": "stderr",
     "output_type": "stream",
     "text": [
      " 55%|█████▌    | 13420/24367 [00:59<00:48, 225.00it/s, film599408]"
     ]
    },
    {
     "name": "stdout",
     "output_type": "stream",
     "text": [
      "💾 Saved HTML to: film_reviews\\film599408_12.html\n",
      "INFO: Too many requests\n",
      "\n",
      "🔚 Closing browser...\n"
     ]
    },
    {
     "name": "stderr",
     "output_type": "stream",
     "text": [
      "\n"
     ]
    },
    {
     "ename": "SystemExit",
     "evalue": "",
     "output_type": "error",
     "traceback": [
      "An exception has occurred, use %tb to see the full traceback.\n",
      "\u001b[1;31mSystemExit\u001b[0m\n"
     ]
    }
   ],
   "source": [
    "# Run the scraping process\n",
    "print(\"🚀 Starting the scraping process...\")\n",
    "print(\"=\" * 50)\n",
    "\n",
    "scraped_data = scrape_filmaffinity_sections_and_pages(\n",
    "    film_links=film_links,\n",
    "    base_url_template=base_url_template,\n",
    "    save_html=True\n",
    ")"
   ]
  }
 ],
 "metadata": {
  "kernelspec": {
   "display_name": "Python 3",
   "language": "python",
   "name": "python3"
  },
  "language_info": {
   "codemirror_mode": {
    "name": "ipython",
    "version": 3
   },
   "file_extension": ".py",
   "mimetype": "text/x-python",
   "name": "python",
   "nbconvert_exporter": "python",
   "pygments_lexer": "ipython3",
   "version": "3.13.0"
  }
 },
 "nbformat": 4,
 "nbformat_minor": 5
}
